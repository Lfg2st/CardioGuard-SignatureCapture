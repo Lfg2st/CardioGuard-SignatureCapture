{
 "cells": [
  {
   "cell_type": "code",
   "execution_count": 15,
   "metadata": {},
   "outputs": [],
   "source": [
    "import pickle\n",
    "\n",
    "from sklearn.ensemble import RandomForestClassifier\n",
    "from sklearn.model_selection import train_test_split\n",
    "from sklearn.metrics import accuracy_score\n",
    "import numpy as np\n"
   ]
  },
  {
   "cell_type": "code",
   "execution_count": 16,
   "metadata": {},
   "outputs": [],
   "source": [
    "\n",
    "data_dict = pickle.load(open('./data.pickle', 'rb'))\n",
    "\n",
    "data = np.asarray(data_dict['data'])\n",
    "labels = np.asarray(data_dict['labels'])\n",
    "\n",
    "x_train, x_test, y_train, y_test = train_test_split(data, labels, test_size=0.2, shuffle=True, stratify=labels)"
   ]
  },
  {
   "cell_type": "code",
   "execution_count": 17,
   "metadata": {},
   "outputs": [],
   "source": [
    "model = RandomForestClassifier()"
   ]
  },
  {
   "cell_type": "code",
   "execution_count": 18,
   "metadata": {},
   "outputs": [
    {
     "data": {
      "text/html": [
       "<style>#sk-container-id-2 {color: black;background-color: white;}#sk-container-id-2 pre{padding: 0;}#sk-container-id-2 div.sk-toggleable {background-color: white;}#sk-container-id-2 label.sk-toggleable__label {cursor: pointer;display: block;width: 100%;margin-bottom: 0;padding: 0.3em;box-sizing: border-box;text-align: center;}#sk-container-id-2 label.sk-toggleable__label-arrow:before {content: \"▸\";float: left;margin-right: 0.25em;color: #696969;}#sk-container-id-2 label.sk-toggleable__label-arrow:hover:before {color: black;}#sk-container-id-2 div.sk-estimator:hover label.sk-toggleable__label-arrow:before {color: black;}#sk-container-id-2 div.sk-toggleable__content {max-height: 0;max-width: 0;overflow: hidden;text-align: left;background-color: #f0f8ff;}#sk-container-id-2 div.sk-toggleable__content pre {margin: 0.2em;color: black;border-radius: 0.25em;background-color: #f0f8ff;}#sk-container-id-2 input.sk-toggleable__control:checked~div.sk-toggleable__content {max-height: 200px;max-width: 100%;overflow: auto;}#sk-container-id-2 input.sk-toggleable__control:checked~label.sk-toggleable__label-arrow:before {content: \"▾\";}#sk-container-id-2 div.sk-estimator input.sk-toggleable__control:checked~label.sk-toggleable__label {background-color: #d4ebff;}#sk-container-id-2 div.sk-label input.sk-toggleable__control:checked~label.sk-toggleable__label {background-color: #d4ebff;}#sk-container-id-2 input.sk-hidden--visually {border: 0;clip: rect(1px 1px 1px 1px);clip: rect(1px, 1px, 1px, 1px);height: 1px;margin: -1px;overflow: hidden;padding: 0;position: absolute;width: 1px;}#sk-container-id-2 div.sk-estimator {font-family: monospace;background-color: #f0f8ff;border: 1px dotted black;border-radius: 0.25em;box-sizing: border-box;margin-bottom: 0.5em;}#sk-container-id-2 div.sk-estimator:hover {background-color: #d4ebff;}#sk-container-id-2 div.sk-parallel-item::after {content: \"\";width: 100%;border-bottom: 1px solid gray;flex-grow: 1;}#sk-container-id-2 div.sk-label:hover label.sk-toggleable__label {background-color: #d4ebff;}#sk-container-id-2 div.sk-serial::before {content: \"\";position: absolute;border-left: 1px solid gray;box-sizing: border-box;top: 0;bottom: 0;left: 50%;z-index: 0;}#sk-container-id-2 div.sk-serial {display: flex;flex-direction: column;align-items: center;background-color: white;padding-right: 0.2em;padding-left: 0.2em;position: relative;}#sk-container-id-2 div.sk-item {position: relative;z-index: 1;}#sk-container-id-2 div.sk-parallel {display: flex;align-items: stretch;justify-content: center;background-color: white;position: relative;}#sk-container-id-2 div.sk-item::before, #sk-container-id-2 div.sk-parallel-item::before {content: \"\";position: absolute;border-left: 1px solid gray;box-sizing: border-box;top: 0;bottom: 0;left: 50%;z-index: -1;}#sk-container-id-2 div.sk-parallel-item {display: flex;flex-direction: column;z-index: 1;position: relative;background-color: white;}#sk-container-id-2 div.sk-parallel-item:first-child::after {align-self: flex-end;width: 50%;}#sk-container-id-2 div.sk-parallel-item:last-child::after {align-self: flex-start;width: 50%;}#sk-container-id-2 div.sk-parallel-item:only-child::after {width: 0;}#sk-container-id-2 div.sk-dashed-wrapped {border: 1px dashed gray;margin: 0 0.4em 0.5em 0.4em;box-sizing: border-box;padding-bottom: 0.4em;background-color: white;}#sk-container-id-2 div.sk-label label {font-family: monospace;font-weight: bold;display: inline-block;line-height: 1.2em;}#sk-container-id-2 div.sk-label-container {text-align: center;}#sk-container-id-2 div.sk-container {/* jupyter's `normalize.less` sets `[hidden] { display: none; }` but bootstrap.min.css set `[hidden] { display: none !important; }` so we also need the `!important` here to be able to override the default hidden behavior on the sphinx rendered scikit-learn.org. See: https://github.com/scikit-learn/scikit-learn/issues/21755 */display: inline-block !important;position: relative;}#sk-container-id-2 div.sk-text-repr-fallback {display: none;}</style><div id=\"sk-container-id-2\" class=\"sk-top-container\"><div class=\"sk-text-repr-fallback\"><pre>RandomForestClassifier()</pre><b>In a Jupyter environment, please rerun this cell to show the HTML representation or trust the notebook. <br />On GitHub, the HTML representation is unable to render, please try loading this page with nbviewer.org.</b></div><div class=\"sk-container\" hidden><div class=\"sk-item\"><div class=\"sk-estimator sk-toggleable\"><input class=\"sk-toggleable__control sk-hidden--visually\" id=\"sk-estimator-id-2\" type=\"checkbox\" checked><label for=\"sk-estimator-id-2\" class=\"sk-toggleable__label sk-toggleable__label-arrow\">RandomForestClassifier</label><div class=\"sk-toggleable__content\"><pre>RandomForestClassifier()</pre></div></div></div></div></div>"
      ],
      "text/plain": [
       "RandomForestClassifier()"
      ]
     },
     "execution_count": 18,
     "metadata": {},
     "output_type": "execute_result"
    }
   ],
   "source": [
    "model.fit(x_train, y_train)"
   ]
  },
  {
   "cell_type": "code",
   "execution_count": 19,
   "metadata": {},
   "outputs": [],
   "source": [
    "preds = model.predict(x_test)"
   ]
  },
  {
   "cell_type": "code",
   "execution_count": 20,
   "metadata": {},
   "outputs": [
    {
     "data": {
      "text/plain": [
       "array([23, 24, 21,  9, 24, 16, 24, 21,  3, 25, 16, 22,  6, 19, 18,  2, 21,\n",
       "        0,  2, 20, 12,  4, 25,  4, 25, 16,  9,  8, 15,  4, 15,  6, 17,  6,\n",
       "       13, 18, 22, 11,  1,  6,  7, 25,  0,  0,  4, 24, 15, 14, 24,  5, 17,\n",
       "        7, 24, 10, 23,  5,  9,  9, 15,  3,  6,  9, 10, 20, 25, 24, 25, 15,\n",
       "       10, 13, 13, 13, 24, 11,  9, 12,  1,  2,  9, 23, 16, 23, 12,  8, 18,\n",
       "       23,  4, 19,  6, 25, 21, 22,  9, 13,  5, 23, 11,  0, 14, 10,  6,  4,\n",
       "       18, 20, 23, 19, 17,  1,  5, 19, 12, 13,  7, 13,  7, 16,  9, 22, 15,\n",
       "        3,  5, 17,  7,  2, 13, 10, 20,  6, 18,  5, 18,  1, 16, 19,  0, 12,\n",
       "       21,  1,  8, 20,  4,  8, 23, 21, 11, 14, 15, 21,  3,  1, 25, 17, 13,\n",
       "        2, 22, 25, 16,  8, 14,  0,  3,  1,  7,  4,  2, 22, 13,  7, 11,  8,\n",
       "       13,  7, 17, 23, 13,  8, 18, 21,  4,  3, 22, 20,  1, 14, 15,  9,  6,\n",
       "        0,  2, 14,  0, 21, 21,  4, 15, 22, 25, 13, 18, 16, 24,  7,  2, 23,\n",
       "        3, 21, 16, 24, 20, 10,  4, 23,  6, 15, 11,  8, 11, 16, 11, 22, 21,\n",
       "       10, 19,  7, 18, 20,  2,  3, 14, 14, 19,  3, 10,  8, 24, 17,  3, 15,\n",
       "       17, 16,  9, 22, 23, 24, 20, 24,  0, 18,  0,  1, 25, 20,  8, 19, 22,\n",
       "       12, 20,  0, 19, 20, 10,  9, 17,  6, 20, 20,  2,  2,  4, 11, 18, 23,\n",
       "        9, 19,  0,  4, 17, 12,  6, 21, 25, 11,  5, 12,  8,  7, 15, 14, 18,\n",
       "        6, 13, 23, 19, 24,  5, 23, 19, 25, 14,  8, 11,  4, 15, 12, 25, 14,\n",
       "       23,  1,  9, 22,  4,  6,  6,  3, 14, 11,  5, 15, 21,  5,  6,  8, 13,\n",
       "        5,  8, 15, 19,  9, 10,  2, 17,  3,  5,  1, 14, 24,  0, 20, 18, 25,\n",
       "       22, 24, 12,  5,  2, 17, 19, 18,  3,  5, 20, 17, 15, 13, 17, 15, 12,\n",
       "        7, 16,  8, 18, 16, 18, 12, 24, 10,  0, 16,  0, 23,  1, 11, 10, 10,\n",
       "       21,  9, 21, 11,  7, 24, 19, 20,  2,  1,  0,  3, 25, 14, 16,  7,  3,\n",
       "       21,  8,  9, 17,  9, 25, 12, 17,  1,  1, 22, 22,  5,  2, 12,  8, 10,\n",
       "       14, 18, 19, 12, 16, 22, 16,  0,  6, 13,  8,  4,  7, 23, 12, 19, 10,\n",
       "       25, 19, 13, 23,  5,  7,  1, 10, 24,  4, 10,  8,  3, 17, 22, 10, 10,\n",
       "       14, 17, 15, 22,  5, 18,  9,  7, 14, 13, 16,  6, 11,  4, 11, 19,  3,\n",
       "        3, 24, 25,  5, 18, 14,  3, 17,  5,  8,  2,  9, 13, 12, 23, 19,  7,\n",
       "        2, 10,  4,  5, 18, 15, 21,  1, 11,  3,  2,  0, 21, 12, 15, 21,  2,\n",
       "        6,  6,  1, 22, 16, 16,  4, 12,  0, 12, 11, 14,  1, 22, 11,  7, 23,\n",
       "        1, 17, 20, 20,  0, 25,  2, 14, 20, 11])"
      ]
     },
     "execution_count": 20,
     "metadata": {},
     "output_type": "execute_result"
    }
   ],
   "source": [
    "preds"
   ]
  },
  {
   "cell_type": "code",
   "execution_count": 21,
   "metadata": {},
   "outputs": [
    {
     "data": {
      "text/plain": [
       "array([23, 24, 21,  9, 24, 16, 24, 21,  3, 25, 16, 22,  6, 19, 18,  2, 21,\n",
       "        0,  2, 20, 12,  4, 25,  4, 25, 16,  9,  8, 15,  4, 15,  6, 17,  6,\n",
       "       13, 18, 22, 11,  1,  6,  7, 25,  0,  0,  4, 24, 15, 14, 24,  5, 17,\n",
       "        7, 24, 10, 23,  5,  9,  9, 15,  3,  6,  9, 10, 20, 25, 24, 25, 15,\n",
       "       10, 13, 13, 13, 24, 11,  9, 12,  1,  2,  9, 23, 16, 23, 12,  8, 18,\n",
       "        7,  4, 19,  6, 25, 21, 22,  9, 13,  5, 23, 11,  0, 14, 10,  6,  4,\n",
       "       18, 20, 23, 19, 17,  1,  5, 19, 12, 13,  7, 13,  7, 16,  9, 22, 15,\n",
       "        3,  5, 17,  7,  2, 13, 10, 20,  6, 18,  5, 18,  1, 16, 19,  0, 12,\n",
       "       21,  1,  8, 20,  4,  8, 23, 21, 11, 14, 15, 21,  3,  1, 25, 17, 13,\n",
       "        2, 22, 25, 16,  8, 14,  0,  3,  1,  7,  4,  2, 22, 13,  7, 11,  8,\n",
       "       13,  7, 17, 23, 13,  8, 18, 21,  4,  3, 22, 20,  1, 14, 15,  9,  6,\n",
       "        0,  2, 14,  0, 21, 21,  4, 15, 22, 25, 13, 18, 16, 24,  7,  2, 23,\n",
       "        3, 21, 16, 24, 20, 10,  4, 23,  6, 15, 11,  8, 11, 16, 11, 22, 21,\n",
       "       10, 19,  7, 18, 20,  2,  3, 14, 14, 19,  3, 10,  8, 24, 17,  3, 15,\n",
       "       17, 16,  9, 22, 23, 24, 20, 24,  0, 18,  0,  1, 25, 20,  8, 19, 22,\n",
       "       12, 20,  0, 19, 20, 10,  9, 17,  6, 20, 20,  2,  2,  4, 11, 18, 23,\n",
       "        9, 19,  0,  4, 17, 12,  6, 21, 25, 11,  5, 12,  8,  7, 15, 14, 18,\n",
       "        6, 13, 23, 19, 24,  5, 23, 19, 25, 14,  8, 11,  4, 15, 12, 25, 14,\n",
       "       23,  1,  9, 22,  4,  6,  6,  3, 14, 11,  5, 15, 21,  5,  6,  8, 13,\n",
       "        5,  8, 15, 19,  9, 10,  2, 17,  3,  5,  1, 14, 24,  0, 20, 18, 25,\n",
       "       22, 24, 12,  5,  2, 17, 19, 18,  3,  5, 20, 17, 15, 13, 17, 15, 12,\n",
       "        7, 16,  8, 18, 16, 18, 12, 24, 10,  0, 16,  0, 23,  1, 11, 10, 10,\n",
       "       21,  9, 21, 11,  7, 24, 19, 20,  2,  1,  0,  3, 25, 14, 16,  7,  3,\n",
       "       21,  8,  9, 17,  9, 25, 12, 17,  1,  1, 22, 22,  5,  2, 12,  8, 10,\n",
       "       14, 18, 19, 12, 16, 22, 16,  0,  6, 13,  8,  4,  7, 23, 12, 19, 10,\n",
       "       25, 19, 13, 23,  5,  7,  1, 10, 24,  4, 10,  8,  3, 17, 22, 10, 10,\n",
       "       14, 17, 15, 22,  5, 18,  9,  7, 14, 13, 16,  6, 11,  4, 11, 19,  3,\n",
       "        3, 24, 25,  5, 18, 14,  3, 17,  5,  8,  2,  9, 13, 12, 23, 19,  7,\n",
       "        2, 10,  4,  5, 18, 15, 21,  1, 11,  3,  2,  0, 21, 12, 15, 21,  2,\n",
       "        6,  6,  1, 22, 16, 16,  4, 12,  0, 12, 11, 14,  1, 22, 11,  7, 23,\n",
       "        1, 17, 20, 20,  0, 25,  2, 14, 20, 11])"
      ]
     },
     "execution_count": 21,
     "metadata": {},
     "output_type": "execute_result"
    }
   ],
   "source": [
    "y_test"
   ]
  },
  {
   "cell_type": "code",
   "execution_count": 22,
   "metadata": {},
   "outputs": [
    {
     "data": {
      "text/plain": [
       "array([10])"
      ]
     },
     "execution_count": 22,
     "metadata": {},
     "output_type": "execute_result"
    }
   ],
   "source": [
    "model.predict([x_train[34]])"
   ]
  },
  {
   "cell_type": "code",
   "execution_count": 23,
   "metadata": {},
   "outputs": [
    {
     "data": {
      "text/plain": [
       "10"
      ]
     },
     "execution_count": 23,
     "metadata": {},
     "output_type": "execute_result"
    }
   ],
   "source": [
    "y_train[34]"
   ]
  },
  {
   "cell_type": "code",
   "execution_count": 24,
   "metadata": {},
   "outputs": [],
   "source": [
    "import pickle\n",
    "pickle.dump(model, open('model.pkl', 'wb'))\n",
    "\n"
   ]
  },
  {
   "cell_type": "code",
   "execution_count": 11,
   "metadata": {},
   "outputs": [
    {
     "data": {
      "text/plain": [
       "0"
      ]
     },
     "execution_count": 11,
     "metadata": {},
     "output_type": "execute_result"
    }
   ],
   "source": [
    "y_train[0]"
   ]
  },
  {
   "cell_type": "code",
   "execution_count": 12,
   "metadata": {},
   "outputs": [
    {
     "data": {
      "text/plain": [
       "array([[0.2997117 , 0.67563486, 0.33459902, ..., 0.55886769, 0.2892105 ,\n",
       "        0.56647629],\n",
       "       [0.24601603, 0.64924216, 0.27837169, ..., 0.42463034, 0.26553169,\n",
       "        0.43245813],\n",
       "       [0.21100934, 0.76648521, 0.23857364, ..., 0.6790632 , 0.19062477,\n",
       "        0.70732856],\n",
       "       ...,\n",
       "       [0.34269109, 0.76812989, 0.36292836, ..., 0.75141686, 0.32173595,\n",
       "        0.76599872],\n",
       "       [0.1429234 , 0.93787867, 0.18116061, ..., 0.77141988, 0.11641958,\n",
       "        0.80851132],\n",
       "       [0.20911045, 0.84507978, 0.25232548, ..., 0.73443151, 0.18951336,\n",
       "        0.77210903]])"
      ]
     },
     "execution_count": 12,
     "metadata": {},
     "output_type": "execute_result"
    }
   ],
   "source": [
    "x_train"
   ]
  },
  {
   "cell_type": "code",
   "execution_count": 14,
   "metadata": {},
   "outputs": [
    {
     "data": {
      "text/plain": [
       "0.9961538461538462"
      ]
     },
     "execution_count": 14,
     "metadata": {},
     "output_type": "execute_result"
    }
   ],
   "source": [
    "model.score(x_test, y_test)"
   ]
  },
  {
   "cell_type": "code",
   "execution_count": null,
   "metadata": {},
   "outputs": [],
   "source": []
  },
  {
   "cell_type": "code",
   "execution_count": null,
   "metadata": {},
   "outputs": [],
   "source": []
  }
 ],
 "metadata": {
  "kernelspec": {
   "display_name": "myenv",
   "language": "python",
   "name": "python3"
  },
  "language_info": {
   "codemirror_mode": {
    "name": "ipython",
    "version": 3
   },
   "file_extension": ".py",
   "mimetype": "text/x-python",
   "name": "python",
   "nbconvert_exporter": "python",
   "pygments_lexer": "ipython3",
   "version": "3.11.3"
  },
  "orig_nbformat": 4
 },
 "nbformat": 4,
 "nbformat_minor": 2
}
